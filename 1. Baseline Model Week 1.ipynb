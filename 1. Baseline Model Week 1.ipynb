{
 "cells": [
  {
   "cell_type": "code",
   "execution_count": 1,
   "metadata": {},
   "outputs": [],
   "source": [
    "import pandas as pd \n",
    "import numpy as np\n",
    "import matplotlib.pyplot as plt\n",
    "%matplotlib inline\n",
    "import seaborn as sns\n",
    "import warnings\n",
    "warnings.filterwarnings('ignore')\n",
    "import os"
   ]
  },
  {
   "cell_type": "code",
   "execution_count": 2,
   "metadata": {},
   "outputs": [],
   "source": [
    "file_name = \"training.csv\""
   ]
  },
  {
   "cell_type": "code",
   "execution_count": 3,
   "metadata": {},
   "outputs": [],
   "source": [
    "df = pd.read_csv(file_name, index_col='RefId')\n",
    "#df.head(5)"
   ]
  },
  {
   "cell_type": "code",
   "execution_count": 4,
   "metadata": {},
   "outputs": [
    {
     "data": {
      "text/plain": [
       "(72983, 33)"
      ]
     },
     "execution_count": 4,
     "metadata": {},
     "output_type": "execute_result"
    }
   ],
   "source": [
    "df.shape"
   ]
  },
  {
   "cell_type": "code",
   "execution_count": 5,
   "metadata": {},
   "outputs": [
    {
     "name": "stdout",
     "output_type": "stream",
     "text": [
      "<class 'pandas.core.frame.DataFrame'>\n",
      "Int64Index: 72983 entries, 1 to 73014\n",
      "Data columns (total 33 columns):\n",
      "IsBadBuy                             72983 non-null int64\n",
      "PurchDate                            72983 non-null object\n",
      "Auction                              72983 non-null object\n",
      "VehYear                              72983 non-null int64\n",
      "VehicleAge                           72983 non-null int64\n",
      "Make                                 72983 non-null object\n",
      "Model                                72983 non-null object\n",
      "Trim                                 70623 non-null object\n",
      "SubModel                             72975 non-null object\n",
      "Color                                72975 non-null object\n",
      "Transmission                         72974 non-null object\n",
      "WheelTypeID                          69814 non-null float64\n",
      "WheelType                            69809 non-null object\n",
      "VehOdo                               72983 non-null int64\n",
      "Nationality                          72978 non-null object\n",
      "Size                                 72978 non-null object\n",
      "TopThreeAmericanName                 72978 non-null object\n",
      "MMRAcquisitionAuctionAveragePrice    72965 non-null float64\n",
      "MMRAcquisitionAuctionCleanPrice      72965 non-null float64\n",
      "MMRAcquisitionRetailAveragePrice     72965 non-null float64\n",
      "MMRAcquisitonRetailCleanPrice        72965 non-null float64\n",
      "MMRCurrentAuctionAveragePrice        72668 non-null float64\n",
      "MMRCurrentAuctionCleanPrice          72668 non-null float64\n",
      "MMRCurrentRetailAveragePrice         72668 non-null float64\n",
      "MMRCurrentRetailCleanPrice           72668 non-null float64\n",
      "PRIMEUNIT                            3419 non-null object\n",
      "AUCGUART                             3419 non-null object\n",
      "BYRNO                                72983 non-null int64\n",
      "VNZIP1                               72983 non-null int64\n",
      "VNST                                 72983 non-null object\n",
      "VehBCost                             72983 non-null float64\n",
      "IsOnlineSale                         72983 non-null int64\n",
      "WarrantyCost                         72983 non-null int64\n",
      "dtypes: float64(10), int64(8), object(15)\n",
      "memory usage: 18.9+ MB\n"
     ]
    }
   ],
   "source": [
    "# Lets see the data structure\n",
    "df.info()\n",
    "# This will give you an indication of how many rows and columns are present in the dataset\n",
    "# alongwith their data types"
   ]
  },
  {
   "cell_type": "code",
   "execution_count": 6,
   "metadata": {},
   "outputs": [
    {
     "data": {
      "text/plain": [
       "IsBadBuy                                 0\n",
       "PurchDate                                0\n",
       "Auction                                  0\n",
       "VehYear                                  0\n",
       "VehicleAge                               0\n",
       "Make                                     0\n",
       "Model                                    0\n",
       "Trim                                  2360\n",
       "SubModel                                 8\n",
       "Color                                    8\n",
       "Transmission                             9\n",
       "WheelTypeID                           3169\n",
       "WheelType                             3174\n",
       "VehOdo                                   0\n",
       "Nationality                              5\n",
       "Size                                     5\n",
       "TopThreeAmericanName                     5\n",
       "MMRAcquisitionAuctionAveragePrice       18\n",
       "MMRAcquisitionAuctionCleanPrice         18\n",
       "MMRAcquisitionRetailAveragePrice        18\n",
       "MMRAcquisitonRetailCleanPrice           18\n",
       "MMRCurrentAuctionAveragePrice          315\n",
       "MMRCurrentAuctionCleanPrice            315\n",
       "MMRCurrentRetailAveragePrice           315\n",
       "MMRCurrentRetailCleanPrice             315\n",
       "PRIMEUNIT                            69564\n",
       "AUCGUART                             69564\n",
       "BYRNO                                    0\n",
       "VNZIP1                                   0\n",
       "VNST                                     0\n",
       "VehBCost                                 0\n",
       "IsOnlineSale                             0\n",
       "WarrantyCost                             0\n",
       "dtype: int64"
      ]
     },
     "execution_count": 6,
     "metadata": {},
     "output_type": "execute_result"
    }
   ],
   "source": [
    "# We will find out how many NULL values are present \n",
    "df.isnull().sum()"
   ]
  },
  {
   "cell_type": "code",
   "execution_count": 7,
   "metadata": {},
   "outputs": [
    {
     "name": "stdout",
     "output_type": "stream",
     "text": [
      " The original shape of the df was: (72983, 33)\n",
      " Shape of df now is:  (67270, 29)\n"
     ]
    }
   ],
   "source": [
    "print(\" The original shape of the df was:\", df.shape)\n",
    "\n",
    "# Dropping COLOUMN that has less than 20 Values, as it is not going to alter/skew  the data set (20 Vs ~72K) \n",
    "df = df.dropna(subset=['SubModel','Color','Transmission','Nationality','Size','TopThreeAmericanName',\n",
    "                       'MMRAcquisitionAuctionCleanPrice','MMRAcquisitionRetailAveragePrice',\n",
    "                       'MMRAcquisitonRetailCleanPrice'])\n",
    "\n",
    "# Dropping COLOUMN that has less than 300 Values(300 Vs ~72K) \n",
    "df = df.dropna(subset=['MMRCurrentAuctionAveragePrice','MMRCurrentAuctionCleanPrice',\n",
    "                       'MMRCurrentRetailAveragePrice','MMRCurrentRetailCleanPrice'])\n",
    "\n",
    "# Field \"PRIMEUNIT\" & \"AUCGUART\" has only 3419 entry, rest all NULL values, It is as good as not haveing  \n",
    "# therse fields So we can drop these two coloumns\n",
    "df = df.drop(['PRIMEUNIT','AUCGUART'], axis = 1)\n",
    "\n",
    "#For this week we are going to delete all the Rows\n",
    "#that contains null value\n",
    "df = df.dropna(subset=['Trim','WheelTypeID','WheelType'])\n",
    "\n",
    "# VehYear and VehicleAge are the same, hence removing the VehYear Col \n",
    "# WheelTypeID and WheelType are the same, hence removing WheelType Col     \n",
    "df = df.drop(['VehYear','WheelType'], axis = 1)\n",
    "\n",
    "print(\" Shape of df now is: \", df.shape)"
   ]
  },
  {
   "cell_type": "code",
   "execution_count": 8,
   "metadata": {},
   "outputs": [
    {
     "name": "stdout",
     "output_type": "stream",
     "text": [
      "IsBadBuy 2\n",
      "PurchDate 516\n",
      "Auction 3\n",
      "VehicleAge 10\n",
      "Make 32\n",
      "Model 957\n",
      "Trim 133\n",
      "SubModel 826\n",
      "Color 16\n",
      "Transmission 3\n",
      "WheelTypeID 3\n",
      "VehOdo 38083\n",
      "Nationality 4\n",
      "Size 12\n",
      "TopThreeAmericanName 4\n",
      "MMRAcquisitionAuctionAveragePrice 10198\n",
      "MMRAcquisitionAuctionCleanPrice 11214\n",
      "MMRAcquisitionRetailAveragePrice 12530\n",
      "MMRAcquisitonRetailCleanPrice 13253\n",
      "MMRCurrentAuctionAveragePrice 10176\n",
      "MMRCurrentAuctionCleanPrice 11072\n",
      "MMRCurrentRetailAveragePrice 12255\n",
      "MMRCurrentRetailCleanPrice 12947\n",
      "BYRNO 72\n",
      "VNZIP1 151\n",
      "VNST 37\n",
      "VehBCost 2033\n",
      "IsOnlineSale 2\n",
      "WarrantyCost 280\n"
     ]
    }
   ],
   "source": [
    "# No of Unique Values for each Coloum\n",
    "for column in df.columns:\n",
    "    print(column, len(df[column].unique()))"
   ]
  },
  {
   "cell_type": "code",
   "execution_count": 9,
   "metadata": {},
   "outputs": [
    {
     "name": "stdout",
     "output_type": "stream",
     "text": [
      "       PurchDate Auction   Make                Model Trim           SubModel  \\\n",
      "RefId                                                                          \n",
      "1      12/7/2009   ADESA  MAZDA               MAZDA3    i         4D SEDAN I   \n",
      "2      12/7/2009   ADESA  DODGE  1500 RAM PICKUP 2WD   ST  QUAD CAB 4.7L SLT   \n",
      "3      12/7/2009   ADESA  DODGE           STRATUS V6  SXT   4D SEDAN SXT FFV   \n",
      "4      12/7/2009   ADESA  DODGE                 NEON  SXT           4D SEDAN   \n",
      "5      12/7/2009   ADESA   FORD                FOCUS  ZX3       2D COUPE ZX3   \n",
      "\n",
      "        Color Transmission  Nationality         Size TopThreeAmericanName VNST  \n",
      "RefId                                                                           \n",
      "1         RED         AUTO  OTHER ASIAN       MEDIUM                OTHER   FL  \n",
      "2       WHITE         AUTO     AMERICAN  LARGE TRUCK             CHRYSLER   FL  \n",
      "3      MAROON         AUTO     AMERICAN       MEDIUM             CHRYSLER   FL  \n",
      "4      SILVER         AUTO     AMERICAN      COMPACT             CHRYSLER   FL  \n",
      "5      SILVER       MANUAL     AMERICAN      COMPACT                 FORD   FL   \n",
      "\n",
      "\n",
      "       IsBadBuy  PurchDate  Auction  VehicleAge  Make  Model  Trim  SubModel  \\\n",
      "RefId                                                                          \n",
      "1             0        163        0           3    16    533   131       213   \n",
      "2             0        163        0           5     5      0    92       730   \n",
      "3             0        163        0           4     5    795    97       284   \n",
      "4             0        163        0           5     5    591    97       147   \n",
      "5             0        163        0           4     6    338   125        52   \n",
      "\n",
      "       Color  Transmission  ...  MMRCurrentAuctionAveragePrice  \\\n",
      "RefId                       ...                                  \n",
      "1         12             0  ...                         7451.0   \n",
      "2         14             0  ...                         7456.0   \n",
      "3          7             0  ...                         4035.0   \n",
      "4         13             0  ...                         1844.0   \n",
      "5         13             1  ...                         3247.0   \n",
      "\n",
      "       MMRCurrentAuctionCleanPrice  MMRCurrentRetailAveragePrice  \\\n",
      "RefId                                                              \n",
      "1                           8552.0                       11597.0   \n",
      "2                           9222.0                       11374.0   \n",
      "3                           5557.0                        7146.0   \n",
      "4                           2646.0                        4375.0   \n",
      "5                           4384.0                        6739.0   \n",
      "\n",
      "       MMRCurrentRetailCleanPrice  BYRNO  VNZIP1  VNST  VehBCost  \\\n",
      "RefId                                                              \n",
      "1                         12409.0  21973   33619     5    7100.0   \n",
      "2                         12791.0  19638   33619     5    7600.0   \n",
      "3                          8702.0  19638   33619     5    4900.0   \n",
      "4                          5518.0  19638   33619     5    4100.0   \n",
      "5                          7911.0  19638   33619     5    4000.0   \n",
      "\n",
      "       IsOnlineSale  WarrantyCost  \n",
      "RefId                              \n",
      "1                 0          1113  \n",
      "2                 0          1053  \n",
      "3                 0          1389  \n",
      "4                 0           630  \n",
      "5                 0          1020  \n",
      "\n",
      "[5 rows x 29 columns]\n"
     ]
    }
   ],
   "source": [
    "# This step is needed if you want to convert all categorical columns to ordinal encoded numbers\n",
    "# Filter the above object columns based on the object data type\n",
    "\n",
    "object_columns = df.select_dtypes(include=['object']).columns\n",
    "print(df[object_columns].head(), \"\\n\\n\")\n",
    "\n",
    "# This method of Label Encoding assumes that we are using Tree-based models later.\n",
    "\n",
    "from sklearn.preprocessing import LabelEncoder\n",
    "\n",
    "# Iterate through the object columns and convert them one by one into a numerical column\n",
    "for column in object_columns:\n",
    "    # Instantiate a labelencoder object and then do the fit transform on the data\n",
    "    labelencoder = LabelEncoder()\n",
    "    df[column] = labelencoder.fit_transform(df[column])\n",
    "    \n",
    "print(df.head())"
   ]
  },
  {
   "cell_type": "code",
   "execution_count": 10,
   "metadata": {},
   "outputs": [
    {
     "data": {
      "text/plain": [
       "(67270, 29)"
      ]
     },
     "execution_count": 10,
     "metadata": {},
     "output_type": "execute_result"
    }
   ],
   "source": [
    "df.shape"
   ]
  },
  {
   "cell_type": "code",
   "execution_count": 11,
   "metadata": {},
   "outputs": [
    {
     "name": "stdout",
     "output_type": "stream",
     "text": [
      "Percentage of negative class is 90.437 %\n",
      "Percentage of Positive class is 9.563 %\n"
     ]
    }
   ],
   "source": [
    "# Figure out the class distribution percentage and round it to 3 decimal places\n",
    "\n",
    "print('Percentage of negative class is {} %'.format(\n",
    "    round(df['IsBadBuy'].value_counts()[0]/len(df) * 100,3)))\n",
    "\n",
    "print('Percentage of Positive class is {} %'.format(\n",
    "    round(df['IsBadBuy'].value_counts()[1]/len(df) * 100,3)))\n",
    "\n",
    "# Watch out for situations where the percentage of one class is really small compared to the other\n",
    "# In such a scenario we would need to use SMOTE or other balancing techniques"
   ]
  },
  {
   "cell_type": "code",
   "execution_count": 12,
   "metadata": {},
   "outputs": [
    {
     "name": "stdout",
     "output_type": "stream",
     "text": [
      "(53816, 28) (53816,)\n",
      "(13454, 28) (13454,)\n"
     ]
    }
   ],
   "source": [
    "X = df.drop('IsBadBuy', axis=1)\n",
    "y = df['IsBadBuy']\n",
    "\n",
    "# split into train and test set \n",
    "from sklearn.model_selection import train_test_split\n",
    "X_train, X_test, y_train, y_test = train_test_split(X, y, test_size=0.2, random_state=42)\n",
    "\n",
    "# Note optionally convert the pandas dataframe into a numpy array using to_numpy if you have a big data\n",
    "# and want to model faster. Otherwise it doesnt matter which data structure you use\n",
    "print(X_train.shape, y_train.shape)\n",
    "print(X_test.shape, y_test.shape)"
   ]
  },
  {
   "cell_type": "code",
   "execution_count": 13,
   "metadata": {},
   "outputs": [
    {
     "name": "stdout",
     "output_type": "stream",
     "text": [
      "Has a training accuracy of 98.396 % \n",
      "Has a test accuracy of 90.018 % \n"
     ]
    }
   ],
   "source": [
    "from sklearn.ensemble import RandomForestClassifier\n",
    "\n",
    "# Initialize a classifier object with default params\n",
    "classifier = RandomForestClassifier()\n",
    "classifier.fit(X_train, y_train)\n",
    "\n",
    "# Make predictions using both train and test set\n",
    "rf_train_pred = classifier.predict(X_train)\n",
    "rf_test_pred = classifier.predict(X_test)\n",
    "\n",
    "training_score = classifier.score(X_train, y_train)\n",
    "test_score = classifier.score(X_test, y_test)\n",
    "\n",
    "print(\"Has a training accuracy of {} % \".format(round(training_score.mean(), 5) * 100))\n",
    "print(\"Has a test accuracy of {} % \".format(round(test_score.mean(), 5) * 100))\n",
    "# The accuracy score on its own is less useful for classification. Need to check the confusion matrix\n",
    "# Notice how severe the overfitting is"
   ]
  },
  {
   "cell_type": "code",
   "execution_count": 14,
   "metadata": {},
   "outputs": [
    {
     "name": "stdout",
     "output_type": "stream",
     "text": [
      "classification_report\n",
      "               precision    recall  f1-score   support\n",
      "\n",
      "           0       0.98      1.00      0.99     48697\n",
      "           1       1.00      0.83      0.91      5119\n",
      "\n",
      "    accuracy                           0.98     53816\n",
      "   macro avg       0.99      0.92      0.95     53816\n",
      "weighted avg       0.98      0.98      0.98     53816\n",
      " \n",
      "\n",
      "classification_report\n",
      "               precision    recall  f1-score   support\n",
      "\n",
      "           0       0.90      1.00      0.95     12140\n",
      "           1       0.32      0.02      0.04      1314\n",
      "\n",
      "    accuracy                           0.90     13454\n",
      "   macro avg       0.61      0.51      0.49     13454\n",
      "weighted avg       0.85      0.90      0.86     13454\n",
      " \n",
      "\n"
     ]
    }
   ],
   "source": [
    "from sklearn.metrics import classification_report\n",
    "print(\"classification_report\\n\", classification_report(y_train, rf_train_pred), \"\\n\")\n",
    "\n",
    "print(\"classification_report\\n\", classification_report(y_test, rf_test_pred), \"\\n\")\n",
    "# As can be seen in the report below, the F1 score can be improved"
   ]
  },
  {
   "cell_type": "code",
   "execution_count": 15,
   "metadata": {},
   "outputs": [],
   "source": [
    "import itertools\n",
    "# This is from sklearn's example page \n",
    "# https://scikit-learn.org/stable/auto_examples/model_selection/plot_confusion_matrix.html\n",
    "\n",
    "def plot_confusion_matrix(cm, classes,\n",
    "                          normalize=False,\n",
    "                          title='Confusion matrix',\n",
    "                          cmap=plt.cm.Blues):\n",
    "    \"\"\"\n",
    "    This function prints and plots the confusion matrix.\n",
    "    Normalization can be applied by setting `normalize=True`.\n",
    "    \"\"\"\n",
    "    if normalize:\n",
    "        cm = cm.astype('float') / cm.sum(axis=1)[:, np.newaxis]\n",
    "        print(\"Normalized confusion matrix\")\n",
    "    else:\n",
    "        print('Confusion matrix, without normalization')\n",
    "\n",
    "    print(cm)\n",
    "\n",
    "    plt.imshow(cm, interpolation='nearest', cmap=cmap)\n",
    "    plt.title(title, fontsize=14)\n",
    "    plt.colorbar()\n",
    "    tick_marks = np.arange(len(classes))\n",
    "    plt.xticks(tick_marks, classes, rotation=45)\n",
    "    plt.yticks(tick_marks, classes)\n",
    "\n",
    "    fmt = '.2f' if normalize else 'd'\n",
    "    thresh = cm.max() / 2.\n",
    "    for i, j in itertools.product(range(cm.shape[0]), range(cm.shape[1])):\n",
    "        plt.text(j, i, format(cm[i, j], fmt),\n",
    "                 horizontalalignment=\"center\",\n",
    "                 color=\"white\" if cm[i, j] > thresh else \"black\")\n",
    "\n",
    "    plt.tight_layout()\n",
    "    plt.ylabel('True label')\n",
    "    plt.xlabel('Predicted label')"
   ]
  },
  {
   "cell_type": "code",
   "execution_count": 16,
   "metadata": {},
   "outputs": [
    {
     "name": "stdout",
     "output_type": "stream",
     "text": [
      "Confusion matrix, without normalization\n",
      "[[12086    54]\n",
      " [ 1289    25]]\n",
      "\n",
      "\n",
      "Of the 13454 items in the Test set,\n",
      "The model correctly predicts 25 true positives while missing out on 1289 false negatives\n",
      "It also picks up 54 false positives\n"
     ]
    },
    {
     "data": {
      "image/png": "[encoded data removed]",
      "text/plain": [
       "<Figure size 576x288 with 2 Axes>"
      ]
     },
     "metadata": {
      "needs_background": "light"
     },
     "output_type": "display_data"
    }
   ],
   "source": [
    "labels = ['NO', 'YES']\n",
    "from sklearn.metrics import confusion_matrix\n",
    "\n",
    "# Call the function above for the....\n",
    "# training data \n",
    "confusion_matrix_train_object = confusion_matrix(y_train, rf_train_pred)\n",
    "\n",
    "# and\n",
    "# test data\n",
    "confusion_matrix_test_object = confusion_matrix(y_test, rf_test_pred)\n",
    "\n",
    "\n",
    "fig = plt.figure(figsize=(8,4))\n",
    "plot_confusion_matrix(confusion_matrix_test_object, labels, title=\"Test Confusion Matrix\", \n",
    "                      cmap=plt.cm.Oranges)\n",
    "\n",
    "print('\\n')\n",
    "tn, fp, fn, tp = confusion_matrix_test_object.ravel()\n",
    "print('Of the {} items in the Test set,'.format(len(y_test)))\n",
    "print('The model correctly predicts {} true positives while missing out on {} false negatives'.format(\n",
    "tp, fn))\n",
    "\n",
    "print('It also picks up {} false positives'.format(fp))\n",
    "\n",
    "# FP of  of  is pretty bad. \n",
    "# FN of  of  is also pretty bad. "
   ]
  },
  {
   "cell_type": "code",
   "execution_count": 17,
   "metadata": {},
   "outputs": [
    {
     "name": "stdout",
     "output_type": "stream",
     "text": [
      "Test: 0.5072888848768428\n",
      "Train: 0.9158810081242678\n"
     ]
    }
   ],
   "source": [
    "from sklearn.metrics import roc_auc_score\n",
    "print(\"Test:\", roc_auc_score(y_test, rf_test_pred))\n",
    "print(\"Train:\", roc_auc_score(y_train, rf_train_pred))"
   ]
  }
 ],
 "metadata": {
  "kernelspec": {
   "display_name": "Python 3",
   "language": "python",
   "name": "python3"
  },
  "language_info": {
   "codemirror_mode": {
    "name": "ipython",
    "version": 3
   },
   "file_extension": ".py",
   "mimetype": "text/x-python",
   "name": "python",
   "nbconvert_exporter": "python",
   "pygments_lexer": "ipython3",
   "version": "3.6.7"
  }
 },
 "nbformat": 4,
 "nbformat_minor": 2
}
